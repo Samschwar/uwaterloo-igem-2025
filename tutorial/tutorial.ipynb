{
 "cells": [
  {
   "cell_type": "markdown",
   "id": "c98b10b7",
   "metadata": {},
   "source": [
    "# Python Tutorial (also dip into Libraries that are useful)\n"
   ]
  },
  {
   "cell_type": "markdown",
   "id": "4ead30bd",
   "metadata": {},
   "source": [
    "## Preparing the environment\n",
    "```\n",
    "python3 -m venv venv\n",
    "source venv/bin/activate     # macOS/Linux\n",
    "venv\\Scripts\\activate        # Windows\n",
    "```\n",
    "### Installing Libraries\n",
    "```\n",
    "pip install numpy pandas scipy matplotlib seaborn scikit-learn\n",
    "```\n",
    "\n",
    "I recommend using conda for all these stuff\n",
    "```\n",
    "conda create -n myenv python=3.8\n",
    "conda activate myenv\n",
    "conda install numpy pandas scipy matplotlib seaborn scikit-learn\n",
    "```"
   ]
  },
  {
   "cell_type": "markdown",
   "id": "badb30d4",
   "metadata": {},
   "source": [
    "## 1. Basic Python\n"
   ]
  },
  {
   "cell_type": "code",
   "execution_count": null,
   "id": "72718fd8",
   "metadata": {},
   "outputs": [],
   "source": [
    "# Data types in Python\n",
    "a = 1  # Integer\n",
    "b = 2.0  # Float\n",
    "c = 3 + 4j  # Complex number\n",
    "d = \"hello\"  # String\n",
    "e = [1, 2, 3]  # List: Ordered, mutable collection of items\n",
    "f = (1, 2, 3)  # Tuple: Ordered, immutable collection of items\n",
    "g = {1, 2, 3}  # Set: Unordered collection of unique items\n",
    "h = {1: \"one\", 2: \"two\", 3: \"three\"}  # Dictionary: Key-value pairs\n",
    "i = True  # Boolean\n",
    "j = None  # NoneType: Represents the absence of a value\n",
    "\n",
    "# Generally these aren't used\n",
    "k = bytes(5)  # Bytes: Immutable sequence of bytes\n",
    "l = bytearray(5)  # Bytearray: Mutable sequence of bytes\n",
    "m = memoryview(b\"hello\")  # Memoryview: View of memory of a bytes-like object\n"
   ]
  },
  {
   "cell_type": "code",
   "execution_count": 2,
   "id": "723dd895",
   "metadata": {},
   "outputs": [
    {
     "name": "stdout",
     "output_type": "stream",
     "text": [
      "1 2.0 (3+4j) hello [1, 2, 3] (1, 2, 3) {1, 2, 3} {1: 'one', 2: 'two', 3: 'three'} True None b'\\x00\\x00\\x00\\x00\\x00' bytearray(b'\\x00\\x00\\x00\\x00\\x00') <memory at 0x10971ff40>\n"
     ]
    }
   ],
   "source": [
    "print(a, b, c, d, e, f, g, h, i, j, k, l, m)"
   ]
  },
  {
   "cell_type": "code",
   "execution_count": 3,
   "id": "d8d9b1ac",
   "metadata": {},
   "outputs": [
    {
     "name": "stdout",
     "output_type": "stream",
     "text": [
      "2\n",
      "1.0\n",
      "True\n",
      "<class 'int'>\n"
     ]
    }
   ],
   "source": [
    "# Data type conversion and type checking\n",
    "print(int(b))  # Convert float to int\n",
    "print(float(a))  # Convert int to float\n",
    "print(isinstance(a, int))  # Check if a is an instance of int\n",
    "print(type(a))  # Get the type of a"
   ]
  },
  {
   "cell_type": "code",
   "execution_count": null,
   "id": "9eaf1e62",
   "metadata": {},
   "outputs": [
    {
     "name": "stdout",
     "output_type": "stream",
     "text": [
      "a is greater than b\n",
      "01234\n",
      "1 3 5 7 9\n",
      "10 8 6 4 2\n",
      "1 2 3\n",
      "0:1 1:2 2:3\n",
      "0:1 1:2 2:3\n",
      "1:one 2:two 3:three\n",
      "dict_keys([1, 2, 3])\n",
      "dict_values(['one', 'two', 'three'])\n",
      "0 1 2 3 4\n"
     ]
    }
   ],
   "source": [
    "# Conditions\n",
    "if a < b:\n",
    "    print(\"a is less than b\")\n",
    "elif a > b:\n",
    "    print(\"a is greater than b\")\n",
    "else:\n",
    "    print(\"a is equal to b\")\n",
    "\n",
    "# Loops\n",
    "result = \"\"\n",
    "for i in range(5):  # Loop from 0 to 4\n",
    "    result += str(i) + \" \"  # Concatenate string with the current index\n",
    "print(result)  # Print the concatenated result\n",
    "\n",
    "result = \"\"\n",
    "for i in range(1, 10, 2):  # Loop from 1 to 9 with a step of 2\n",
    "    result += str(i) + \" \" \n",
    "print(result.strip()) \n",
    "\n",
    "result = \"\"\n",
    "for i in range(10, 1, -2):  # Loop from 10 to 2 with a step of -2\n",
    "    result += str(i) + \" \"  \n",
    "print(result.strip())  \n",
    "\n",
    "result = \"\"\n",
    "for i in e:  # Loop through each item in the list\n",
    "    result += str(i) + \" \" \n",
    "print(result.strip())  \n",
    "\n",
    "result = \"\"\n",
    "for i in range(len(e)):  # Loop through the indices of the list\n",
    "    result += f\"{i}:{e[i]} \"  \n",
    "print(result.strip())  \n",
    "\n",
    "result = \"\"\n",
    "for i, item in enumerate(e):  # Loop through the list with index\n",
    "    result += f\"{i}:{item} \"  \n",
    "print(result.strip())  \n",
    "\n",
    "result = \"\"\n",
    "for key, value in h.items():  # Loop through key-value pairs\n",
    "    result += f\"{key}:{value} \" \n",
    "print(result.strip())  \n",
    "\n",
    "print(h.keys())  # Print keys of the dictionary\n",
    "print(h.values())  # Print values of the dictionary\n",
    "\n",
    "# While loop\n",
    "a = 0  # Initialize a\n",
    "result = \"\"\n",
    "while a < 5:  # Loop while a is less than 5\n",
    "    result += str(a) + \" \"  # Concatenate string with the current value of a\n",
    "    a += 1  # Increment a by 1\n",
    "print(result.strip())\n",
    "\n"
   ]
  },
  {
   "cell_type": "code",
   "execution_count": 7,
   "id": "6961070d",
   "metadata": {},
   "outputs": [
    {
     "name": "stdout",
     "output_type": "stream",
     "text": [
      "3\n",
      "This is a Red Blood cell, and its function is transport oxygen.\n",
      "This is a Nerve cell, its function is transmit signals, and it transmits signals at 120 m/s.\n"
     ]
    }
   ],
   "source": [
    "# Functions\n",
    "def add(x, y):  # Function to add two numbers\n",
    "    return x + y\n",
    "\n",
    "z = add(1, 2)  # Call the function with arguments 1 and 2\n",
    "print(z)  # Print the result of the function call\n",
    "\n",
    "# Class\n",
    "class Cell:  # Define a class named Cell\n",
    "    def __init__(self, cell_type, function):  # Constructor to initialize cell type and function\n",
    "        self.cell_type = cell_type  # Set the cell_type attribute\n",
    "        self.function = function  # Set the function attribute\n",
    "\n",
    "    def describe(self):  # Method to describe the cell\n",
    "        return f\"This is a {self.cell_type} cell, and its function is {self.function}.\"\n",
    "    \n",
    "# Create an instance of the Cell class\n",
    "cell = Cell(\"Red Blood\", \"transport oxygen\") \n",
    "print(cell.describe()) \n",
    "\n",
    "class NerveCell(Cell):  # Define a class named NerveCell that inherits from Cell\n",
    "    def __init__(self, cell_type, function, signal_speed):  \n",
    "        super().__init__(cell_type, function) \n",
    "        self.signal_speed = signal_speed  # Set the signal_speed attribute\n",
    "\n",
    "    def describe(self):  # Override the describe method\n",
    "        return f\"This is a {self.cell_type} cell, its function is {self.function}, and it transmits signals at {self.signal_speed} m/s.\"\n",
    "    \n",
    "# Create an instance of the NerveCell class\n",
    "nerve_cell = NerveCell(\"Nerve\", \"transmit signals\", 120)\n",
    "print(nerve_cell.describe())  "
   ]
  },
  {
   "cell_type": "markdown",
   "id": "c1c17364",
   "metadata": {},
   "source": [
    "## 2. Numpy"
   ]
  },
  {
   "cell_type": "code",
   "execution_count": null,
   "id": "15fdabff",
   "metadata": {},
   "outputs": [],
   "source": [
    "import numpy as np  \n",
    "import matplotlib.pyplot as plt"
   ]
  },
  {
   "cell_type": "code",
   "execution_count": 13,
   "id": "0279ae33",
   "metadata": {},
   "outputs": [
    {
     "name": "stdout",
     "output_type": "stream",
     "text": [
      "a = [1 2 3 4]\n",
      "M =\n",
      " [[1 2 3]\n",
      " [4 5 6]]\n",
      "L =\n",
      " [[[ 1  2  3]\n",
      "  [ 4  5  6]]\n",
      "\n",
      " [[ 7  8  9]\n",
      "  [10 11 12]]]\n",
      "a.shape = (4,)\n",
      "M.shape = (2, 3)\n",
      "L.shape = (2, 2, 3)\n"
     ]
    }
   ],
   "source": [
    "# 1D, 2D, 3D arrays\n",
    "a = np.array([1, 2, 3, 4])\n",
    "M = np.array([[1, 2, 3],\n",
    "              [4, 5, 6]])\n",
    "L = np.array([[[1, 2, 3],\n",
    "                [4, 5, 6]],\n",
    "               [[7, 8, 9],\n",
    "                [10, 11, 12]]])\n",
    "\n",
    "print(\"a =\", a)\n",
    "print(\"M =\\n\", M)\n",
    "print(\"L =\\n\", L)\n",
    "print(\"a.shape =\", a.shape)\n",
    "print(\"M.shape =\", M.shape)\n",
    "print(\"L.shape =\", L.shape)"
   ]
  },
  {
   "cell_type": "code",
   "execution_count": 16,
   "id": "20b62397",
   "metadata": {},
   "outputs": [
    {
     "name": "stdout",
     "output_type": "stream",
     "text": [
      "b = [0 2 4 6 8]\n",
      "c = [0.   0.25 0.5  0.75 1.  ]\n"
     ]
    }
   ],
   "source": [
    "# Common routines\n",
    "b = np.arange(0, 10, 2)      # [0,2,4,6,8]\n",
    "c = np.linspace(0, 1, 5)     # [0.,0.25,0.5,0.75,1.]\n",
    "print(\"b =\", b)\n",
    "print(\"c =\", c)"
   ]
  },
  {
   "cell_type": "code",
   "execution_count": 15,
   "id": "1ae8519d",
   "metadata": {},
   "outputs": [
    {
     "name": "stdout",
     "output_type": "stream",
     "text": [
      "a + 10 = [11 12 13 14]\n",
      "a * 2 = [2 4 6 8]\n",
      "a ** 2 = [ 1  4  9 16]\n"
     ]
    }
   ],
   "source": [
    "# Elementwise operations\n",
    "print(\"a + 10 =\", a + 10)\n",
    "print(\"a * 2 =\", a * 2)\n",
    "print(\"a ** 2 =\", a ** 2)"
   ]
  },
  {
   "cell_type": "code",
   "execution_count": null,
   "id": "95a5d621",
   "metadata": {},
   "outputs": [
    {
     "name": "stdout",
     "output_type": "stream",
     "text": [
      "M ⋅ v = [ 4 10]\n",
      "v1 × v2 = [-3  6 -3]\n"
     ]
    }
   ],
   "source": [
    "# Dot product\n",
    "v = np.array([1, 0, 1])\n",
    "print(\"M ⋅ v =\", M.dot(v))\n",
    "\n",
    "# Cross product\n",
    "v1 = np.array([1, 2, 3])\n",
    "v2 = np.array([4, 5, 6])\n",
    "print(\"v1 × v2 =\", np.cross(v1, v2))"
   ]
  },
  {
   "cell_type": "code",
   "execution_count": 19,
   "id": "ef3f6073",
   "metadata": {},
   "outputs": [
    {
     "name": "stdout",
     "output_type": "stream",
     "text": [
      "x[2:8:2] = [2 4 6]\n",
      "Second row of M = [4 5 6]\n",
      "Third column of M = [3 6]\n"
     ]
    }
   ],
   "source": [
    "# Indexing & slicing\n",
    "x = np.arange(10)\n",
    "print(\"x[2:8:2] =\", x[2:8:2])\n",
    "print(\"Second row of M =\", M[1, :])\n",
    "print(\"Third column of M =\", M[:, 2])"
   ]
  },
  {
   "cell_type": "markdown",
   "id": "9e1f9a84",
   "metadata": {},
   "source": [
    "## 3. Pandas Basics"
   ]
  },
  {
   "cell_type": "code",
   "execution_count": 20,
   "id": "c47bc023",
   "metadata": {},
   "outputs": [],
   "source": [
    "import pandas as pd\n",
    "import numpy as np\n"
   ]
  },
  {
   "cell_type": "code",
   "execution_count": 51,
   "id": "954858b0",
   "metadata": {},
   "outputs": [
    {
     "name": "stdout",
     "output_type": "stream",
     "text": [
      "   gene  expression  replicate\n",
      "0  lacZ         1.2          1\n",
      "1  araC         NaN          1\n",
      "2  tetR         0.8          1\n",
      "3  lacZ         2.1          2\n",
      "4  None         1.0          2\n"
     ]
    }
   ],
   "source": [
    "# Create DataFrame\n",
    "df = pd.DataFrame({\n",
    "    'gene':       ['lacZ', 'araC', 'tetR', 'lacZ', None],\n",
    "    'expression': [  1.2,   np.nan,   0.8,      2.1,    1.0],\n",
    "    'replicate':  [    1,       1,      1,        2,      2]\n",
    "})\n",
    "print(df)"
   ]
  },
  {
   "cell_type": "code",
   "execution_count": null,
   "id": "b39ba01b",
   "metadata": {},
   "outputs": [
    {
     "data": {
      "text/html": [
       "<div>\n",
       "<style scoped>\n",
       "    .dataframe tbody tr th:only-of-type {\n",
       "        vertical-align: middle;\n",
       "    }\n",
       "\n",
       "    .dataframe tbody tr th {\n",
       "        vertical-align: top;\n",
       "    }\n",
       "\n",
       "    .dataframe thead th {\n",
       "        text-align: right;\n",
       "    }\n",
       "</style>\n",
       "<table border=\"1\" class=\"dataframe\">\n",
       "  <thead>\n",
       "    <tr style=\"text-align: right;\">\n",
       "      <th></th>\n",
       "      <th>gene</th>\n",
       "      <th>expression</th>\n",
       "      <th>replicate</th>\n",
       "    </tr>\n",
       "  </thead>\n",
       "  <tbody>\n",
       "    <tr>\n",
       "      <th>0</th>\n",
       "      <td>False</td>\n",
       "      <td>False</td>\n",
       "      <td>False</td>\n",
       "    </tr>\n",
       "    <tr>\n",
       "      <th>1</th>\n",
       "      <td>False</td>\n",
       "      <td>True</td>\n",
       "      <td>False</td>\n",
       "    </tr>\n",
       "    <tr>\n",
       "      <th>2</th>\n",
       "      <td>False</td>\n",
       "      <td>False</td>\n",
       "      <td>False</td>\n",
       "    </tr>\n",
       "    <tr>\n",
       "      <th>3</th>\n",
       "      <td>False</td>\n",
       "      <td>False</td>\n",
       "      <td>False</td>\n",
       "    </tr>\n",
       "    <tr>\n",
       "      <th>4</th>\n",
       "      <td>True</td>\n",
       "      <td>False</td>\n",
       "      <td>False</td>\n",
       "    </tr>\n",
       "  </tbody>\n",
       "</table>\n",
       "</div>"
      ],
      "text/plain": [
       "    gene  expression  replicate\n",
       "0  False       False      False\n",
       "1  False        True      False\n",
       "2  False       False      False\n",
       "3  False       False      False\n",
       "4   True       False      False"
      ]
     },
     "execution_count": 52,
     "metadata": {},
     "output_type": "execute_result"
    }
   ],
   "source": [
    "# Detect missing\n",
    "df.isna()"
   ]
  },
  {
   "cell_type": "code",
   "execution_count": null,
   "id": "d63af588",
   "metadata": {},
   "outputs": [
    {
     "name": "stdout",
     "output_type": "stream",
     "text": [
      "   gene  expression  replicate\n",
      "0  lacZ         1.2          1\n",
      "2  tetR         0.8          1\n",
      "3  lacZ         2.1          2\n"
     ]
    }
   ],
   "source": [
    "# Drop rows with ANY missing\n",
    "df_drop_any = df.dropna()\n",
    "print(df_drop_any)"
   ]
  },
  {
   "cell_type": "code",
   "execution_count": null,
   "id": "83fbc19a",
   "metadata": {},
   "outputs": [
    {
     "name": "stdout",
     "output_type": "stream",
     "text": [
      "   gene  expression  replicate\n",
      "0  lacZ         1.2          1\n",
      "1  araC         NaN          1\n",
      "2  tetR         0.8          1\n",
      "3  lacZ         2.1          2\n",
      "4  None         1.0          2\n"
     ]
    }
   ],
   "source": [
    "# Drop rows where ALL are missing\n",
    "df_drop_all = df.dropna(how='all')\n",
    "print(df_drop_all)"
   ]
  },
  {
   "cell_type": "code",
   "execution_count": null,
   "id": "cc0f9e7e",
   "metadata": {},
   "outputs": [
    {
     "name": "stdout",
     "output_type": "stream",
     "text": [
      "      gene  expression  replicate\n",
      "0     lacZ         1.2          1\n",
      "1     araC         0.0          1\n",
      "2     tetR         0.8          1\n",
      "3     lacZ         2.1          2\n",
      "4  unknown         1.0          2\n"
     ]
    }
   ],
   "source": [
    "# Fill missing with a constant or method\n",
    "df_fill0 = df.fillna({'expression': 0.0, 'gene': 'unknown'})\n",
    "print(df_fill0)"
   ]
  },
  {
   "cell_type": "code",
   "execution_count": 58,
   "id": "d6b17180",
   "metadata": {},
   "outputs": [
    {
     "name": "stdout",
     "output_type": "stream",
     "text": [
      "<class 'pandas.core.frame.DataFrame'>\n",
      "RangeIndex: 5 entries, 0 to 4\n",
      "Data columns (total 3 columns):\n",
      " #   Column      Non-Null Count  Dtype  \n",
      "---  ------      --------------  -----  \n",
      " 0   gene        4 non-null      object \n",
      " 1   expression  4 non-null      float64\n",
      " 2   replicate   5 non-null      int64  \n",
      "dtypes: float64(1), int64(1), object(1)\n",
      "memory usage: 252.0+ bytes\n",
      "None\n"
     ]
    }
   ],
   "source": [
    "# Inspect data\n",
    "print(df.info())"
   ]
  },
  {
   "cell_type": "code",
   "execution_count": 59,
   "id": "c460377c",
   "metadata": {},
   "outputs": [
    {
     "name": "stdout",
     "output_type": "stream",
     "text": [
      "       expression  replicate\n",
      "count     4.00000   5.000000\n",
      "mean      1.27500   1.400000\n",
      "std       0.57373   0.547723\n",
      "min       0.80000   1.000000\n",
      "25%       0.95000   1.000000\n",
      "50%       1.10000   1.000000\n",
      "75%       1.42500   2.000000\n",
      "max       2.10000   2.000000\n"
     ]
    }
   ],
   "source": [
    "print(df.describe())"
   ]
  },
  {
   "cell_type": "code",
   "execution_count": 60,
   "id": "a2fa1b64",
   "metadata": {},
   "outputs": [
    {
     "name": "stdout",
     "output_type": "stream",
     "text": [
      "High-expression genes:\n",
      "    gene  expression  replicate\n",
      "0  lacZ         1.2          1\n",
      "3  lacZ         2.1          2\n"
     ]
    }
   ],
   "source": [
    "# Select subset\n",
    "high = df[df.expression > 1.0]\n",
    "print(\"High-expression genes:\\n\", high)"
   ]
  },
  {
   "cell_type": "code",
   "execution_count": 61,
   "id": "1c26521e",
   "metadata": {},
   "outputs": [
    {
     "name": "stdout",
     "output_type": "stream",
     "text": [
      "   gene  expression  replicate  log_expr\n",
      "0  lacZ         1.2          1  0.788457\n",
      "1  araC         NaN          1       NaN\n",
      "2  tetR         0.8          1  0.587787\n",
      "3  lacZ         2.1          2  1.131402\n",
      "4  None         1.0          2  0.693147\n"
     ]
    }
   ],
   "source": [
    "# Add new column\n",
    "df['log_expr'] = np.log(df.expression + 1)\n",
    "print(df)"
   ]
  },
  {
   "cell_type": "code",
   "execution_count": null,
   "id": "66d6ff6b",
   "metadata": {},
   "outputs": [],
   "source": [
    "# Input and Output\n",
    "df.to_csv('expression_results.csv', index=False)\n",
    "# df2 = pd.read_csv('expression_results.csv')"
   ]
  },
  {
   "cell_type": "code",
   "execution_count": null,
   "id": "0bd13881",
   "metadata": {},
   "outputs": [],
   "source": [
    "df_meta = pd.DataFrame({\n",
    "    'gene': ['lacZ','araC','tetR','gfp'],\n",
    "    'function':['enzyme','regulator','repressor','reporter']\n",
    "})\n",
    "df_vals = pd.DataFrame({\n",
    "    'gene': ['lacZ','araC','tetR','lacZ'],\n",
    "    'expression':[1.2,3.5,0.8,1.5]\n",
    "})\n"
   ]
  },
  {
   "cell_type": "code",
   "execution_count": 64,
   "id": "a3f4d576",
   "metadata": {},
   "outputs": [
    {
     "name": "stdout",
     "output_type": "stream",
     "text": [
      "   gene   function  expression\n",
      "0  lacZ     enzyme         1.2\n",
      "1  lacZ     enzyme         1.5\n",
      "2  araC  regulator         3.5\n",
      "3  tetR  repressor         0.8\n",
      "   gene   function  expression\n",
      "0  lacZ     enzyme         1.2\n",
      "1  lacZ     enzyme         1.5\n",
      "2  araC  regulator         3.5\n",
      "3  tetR  repressor         0.8\n",
      "4   gfp   reporter         NaN\n",
      "   gene   function  expression\n",
      "0  lacZ     enzyme         1.2\n",
      "1  araC  regulator         3.5\n",
      "2  tetR  repressor         0.8\n",
      "3  lacZ     enzyme         1.5\n",
      "   gene   function  expression\n",
      "0  araC  regulator         3.5\n",
      "1   gfp   reporter         NaN\n",
      "2  lacZ     enzyme         1.2\n",
      "3  lacZ     enzyme         1.5\n",
      "4  tetR  repressor         0.8\n"
     ]
    }
   ],
   "source": [
    "# Inner join (only matching genes)\n",
    "inner = pd.merge(df_meta, df_vals, on='gene', how='inner')\n",
    "print(inner)\n",
    "\n",
    "# Left join (keep all metadata)\n",
    "left = pd.merge(df_meta, df_vals, on='gene', how='left')\n",
    "print(left)\n",
    "\n",
    "# Right join (keep all expression rows)\n",
    "right = pd.merge(df_meta, df_vals, on='gene', how='right')\n",
    "print(right)\n",
    "\n",
    "# Outer join (all rows)\n",
    "outer = pd.merge(df_meta, df_vals, on='gene', how='outer')\n",
    "print(outer)\n"
   ]
  },
  {
   "cell_type": "markdown",
   "id": "c9238832",
   "metadata": {},
   "source": [
    "## 4. SciPy ODE Solving"
   ]
  },
  {
   "cell_type": "code",
   "execution_count": 28,
   "id": "60b8a66d",
   "metadata": {},
   "outputs": [],
   "source": [
    "import numpy as np\n",
    "from scipy.integrate import odeint, solve_ivp\n",
    "import matplotlib.pyplot as plt"
   ]
  },
  {
   "cell_type": "markdown",
   "id": "e44a7b90",
   "metadata": {},
   "source": [
    "ODE Solving:\n",
    "$$\\frac{dP}{dt} = r * P (1 - \\frac{P}{K})$$"
   ]
  },
  {
   "cell_type": "code",
   "execution_count": 35,
   "id": "f5d8626f",
   "metadata": {},
   "outputs": [
    {
     "data": {
      "image/png": "[encoded data removed]",
      "text/plain": [
       "<Figure size 640x480 with 1 Axes>"
      ]
     },
     "metadata": {},
     "output_type": "display_data"
    }
   ],
   "source": [
    "# Logistic growth model: dP/dt = r P (1 – P/K)\n",
    "def logistic(P, t, r, K):\n",
    "    return r * P * (1 - P/K)\n",
    "\n",
    "# Parameters\n",
    "r, K = 0.5, 100 # Growth rate and carrying capacity\n",
    "P0 = 1  # Initial conditions\n",
    "t  = np.linspace(0, 50, 200)    # Time points, 0 to 50, 200 points\n",
    "\n",
    "sol = odeint(logistic, P0, t, args=(r, K))\n",
    "\n",
    "# Plot results\n",
    "plt.plot(t, sol)\n",
    "plt.xlabel('Time')\n",
    "plt.ylabel('Population P(t)')\n",
    "plt.title('Logistic Growth')\n",
    "plt.show()"
   ]
  },
  {
   "cell_type": "code",
   "execution_count": 38,
   "id": "dc8d2a07",
   "metadata": {},
   "outputs": [
    {
     "data": {
      "image/png": "[encoded data removed]",
      "text/plain": [
       "<Figure size 1200x500 with 2 Axes>"
      ]
     },
     "metadata": {},
     "output_type": "display_data"
    }
   ],
   "source": [
    "def logistic(t, P, r, K):\n",
    "    return r * P * (1 - P/K)\n",
    "\n",
    "r, K = 0.5, 100\n",
    "P0 = [1]\n",
    "t_span = (0, 50)\n",
    "t_eval = np.linspace(*t_span, 200)\n",
    "\n",
    "# Solve with RK45 (default) and custom tolerances\n",
    "sol = solve_ivp(\n",
    "    logistic, \n",
    "    t_span, \n",
    "    P0, \n",
    "    args=(r, K), \n",
    "    t_eval=t_eval, \n",
    "    method='RK45', \n",
    "    rtol=1e-6, \n",
    "    atol=1e-8\n",
    ")\n",
    "\n",
    "# Plot\n",
    "# plt.plot(sol.t, sol.y[0], label='RK45 (rtol=1e-6, atol=1e-8)')\n",
    "\n",
    "# Solve with a different method (e.g., Radau)\n",
    "sol_radau = solve_ivp(\n",
    "    logistic, \n",
    "    t_span, \n",
    "    P0, \n",
    "    args=(r, K), \n",
    "    t_eval=t_eval, \n",
    "    method='Radau', \n",
    "    rtol=1e-6, \n",
    "    atol=1e-8\n",
    ")\n",
    "\n",
    "# Plot side by side\n",
    "fig, axes = plt.subplots(1, 2, figsize=(12, 5))\n",
    "\n",
    "# Plot RK45 results\n",
    "axes[0].plot(sol.t, sol.y[0], label='RK45 (rtol=1e-6, atol=1e-8)')\n",
    "axes[0].set_title('Logistic Growth (RK45)')\n",
    "axes[0].set_xlabel('Time')\n",
    "axes[0].set_ylabel('Population P(t)')\n",
    "axes[0].legend()\n",
    "\n",
    "# Plot Radau results\n",
    "axes[1].plot(sol_radau.t, sol_radau.y[0], label='Radau (rtol=1e-6, atol=1e-8)', linestyle='--')\n",
    "axes[1].set_title('Logistic Growth (Radau)')\n",
    "axes[1].set_xlabel('Time')\n",
    "axes[1].set_ylabel('Population P(t)')\n",
    "axes[1].legend()\n",
    "\n",
    "plt.tight_layout()\n",
    "plt.show()"
   ]
  },
  {
   "cell_type": "markdown",
   "id": "e13c86cc",
   "metadata": {},
   "source": [
    "# Git Commands\n",
    "| Task                           | Command                                                       |\n",
    "| ------------------------------ | ------------------------------------------------------------- |\n",
    "| Initialize repo                | `git init`                                                    |\n",
    "| Stage files                    | `git add <file>` or `git add .`                               |\n",
    "| Clone repo                     | `git clone <https>`                                          |\n",
    "| Commit changes                 | `git commit -m \"Descriptive message\"`                         |\n",
    "| View status                    | `git status`                                                  |\n",
    "| View history                   | `git log --oneline --graph --decorate --all`                  |\n",
    "| Add remote                     | `git remote add origin https://github.com/you/your-repo.git`  |\n",
    "| Push to origin                 | `git push -u origin main`                                     |\n",
    "| Pull changes                   | `git pull`                                                    |\n",
    "| Create branch                  | `git checkout -b feature-branch`                              |\n",
    "| Switch branch                  | `git checkout main`                                           |\n",
    "| Merge branch                   | `git merge feature-branch`          |\n",
    "| Delete branch                  | `git branch -d feature-branch`                                |\n",
    "| Fetch updates                  | `git fetch`                                                   |\n",
    "| Rebase branch                  | `git pull --rebase`                                           |\n",
    "| Open pull request              | *Use GitHub UI: Compare & pull request → Create pull request* |\n"
   ]
  },
  {
   "cell_type": "markdown",
   "id": "b0a0bffb",
   "metadata": {},
   "source": [
    "### Inspecting Status and Differences\n",
    "```\n",
    "# See which files are modified, staged, or untracked\n",
    "git status\n",
    "\n",
    "# Show unstaged changes\n",
    "git diff\n",
    "\n",
    "# Show staged vs. last commit\n",
    "git diff --staged\n",
    "```"
   ]
  },
  {
   "cell_type": "markdown",
   "id": "a53b27d7",
   "metadata": {},
   "source": [
    "### History and Log\n",
    "```\n",
    "# Compact, graphical log of all branches\n",
    "git log --oneline --graph --decorate --all\n",
    "\n",
    "# Detailed info on a single commit\n",
    "git show 3f5e2a1\n",
    "\n",
    "# Show commit history for a specific file\n",
    "git log --oneline --graph --decorate --all <file>\n",
    "```\n",
    "\n",
    "### Unstaging and Undoing Changes\n",
    "```\n",
    "# Unstage a file\n",
    "git reset HEAD <file>\n",
    "# Undo changes in the working directory\n",
    "git checkout -- <file>\n",
    "# Revert to a specific commit\n",
    "git checkout <commit> -- <file>\n",
    "# Reset to a specific commit (destructive)\n",
    "git reset --hard <commit>\n",
    "```"
   ]
  },
  {
   "cell_type": "markdown",
   "id": "84ba4dbf",
   "metadata": {},
   "source": [
    "### Merging and Conflict Resolution\n",
    "```\n",
    "# Merge feature branch into current branch\n",
    "git merge feature/ode-comparison\n",
    "\n",
    "# Prevent fast-forward to preserve branch history\n",
    "git merge --no-ff feature/ode-comparison\n",
    "\n",
    "```\n",
    "\n",
    "**If conflicts arise:**\n",
    "1. Edit conflicted files marked with <<<<<<< / ======= / >>>>>>>\n",
    "2. git add <resolved_files>\n",
    "3. git commit\n",
    "\n",
    "or \n",
    "\n",
    "1. Use the vscode merge tool"
   ]
  },
  {
   "cell_type": "markdown",
   "id": "8fc26cc3",
   "metadata": {},
   "source": [
    "## Git-LFS\n",
    "if files are too large, use git-lfs. First go download the git-lfs client from https://git-lfs.github.com/\n",
    "Then run the following commands in your terminal:\n",
    "```\n",
    "git lfs install\n",
    "```\n",
    "\n",
    "### **Track files:**\n",
    "```\n",
    "git lfs track \"*.png\"\n",
    "```\n",
    "\n",
    "Thats all, it will track all files ending with .png and then all the git operations handled by git-lfs\n",
    "\n",
    "### Untrack files:\n",
    "```\n",
    "git lfs untrack \"*.png\"\n",
    "```\n"
   ]
  },
  {
   "cell_type": "markdown",
   "id": "0b90135a",
   "metadata": {},
   "source": [
    "## Basic Git Files\n",
    "- `.gitignore`: Specifies files and directories to ignore in the repository.\n",
    "- `.gitattributes`: Defines attributes for files in the repository, such as line endings and merge strategies.\n",
    "- `.git/config`: Local configuration for the repository, including remote URLs and branch settings.\n",
    "- `.git/HEAD`: Points to the current branch reference."
   ]
  }
 ],
 "metadata": {
  "kernelspec": {
   "display_name": "igem",
   "language": "python",
   "name": "python3"
  },
  "language_info": {
   "codemirror_mode": {
    "name": "ipython",
    "version": 3
   },
   "file_extension": ".py",
   "mimetype": "text/x-python",
   "name": "python",
   "nbconvert_exporter": "python",
   "pygments_lexer": "ipython3",
   "version": "3.12.5"
  }
 },
 "nbformat": 4,
 "nbformat_minor": 5
}
